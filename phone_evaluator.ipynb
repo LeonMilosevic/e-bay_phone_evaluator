{
  "nbformat": 4,
  "nbformat_minor": 0,
  "metadata": {
    "colab": {
      "name": "phone_evaluator.ipynb",
      "provenance": [],
      "authorship_tag": "ABX9TyNDySCw0tWeck4L7e86u7BX",
      "include_colab_link": true
    },
    "kernelspec": {
      "name": "python3",
      "display_name": "Python 3"
    }
  },
  "cells": [
    {
      "cell_type": "markdown",
      "metadata": {
        "id": "view-in-github",
        "colab_type": "text"
      },
      "source": [
        "<a href=\"https://colab.research.google.com/github/LeonMilosevic/e-bay_phone_evaluator/blob/main/phone_evaluator.ipynb\" target=\"_parent\"><img src=\"https://colab.research.google.com/assets/colab-badge.svg\" alt=\"Open In Colab\"/></a>"
      ]
    },
    {
      "cell_type": "markdown",
      "metadata": {
        "id": "Fnph_IlASiml"
      },
      "source": [
        "## E-bay Phone Evaluator\n",
        "\n",
        "### Steps to take:\n",
        "\n",
        "- ##### We will scrape data from ebay with a custom ebay scraper class found here: https://github.com/LeonMilosevic/ebay-phone-scraper\n",
        "- ##### We will create functions to help us clean our data\n",
        "- ##### We will perform EDA on our data\n",
        "- ##### We will create a baseline model\n",
        "- ##### Do Feature Engineering and Hyperparametars Tuning to improve the performance of our model\n",
        "- ##### We will export the model and use it for our Flask API to enable the app for usage, <br /> you can find it here: https://github.com/LeonMilosevic/ebay_phone_price_predictor_api"
      ]
    },
    {
      "cell_type": "markdown",
      "metadata": {
        "id": "ReYBz4SWXHbq"
      },
      "source": [
        "## Data Scraping"
      ]
    },
    {
      "cell_type": "markdown",
      "metadata": {
        "id": "b6oGmqDTXSQY"
      },
      "source": [
        "#### Install the package from github"
      ]
    },
    {
      "cell_type": "code",
      "metadata": {
        "id": "GrFdffLoXKlo"
      },
      "source": [
        "!pip install git+https://github.com/LeonMilosevic/ebay-phone-scraper"
      ],
      "execution_count": null,
      "outputs": []
    },
    {
      "cell_type": "markdown",
      "metadata": {
        "id": "uFmskgnSXamU"
      },
      "source": [
        "#### Installing necessery packages to use ebay-phone-scraper"
      ]
    },
    {
      "cell_type": "code",
      "metadata": {
        "id": "lPgdKAu5Xk3m"
      },
      "source": [
        "!pip install fake-useragent"
      ],
      "execution_count": null,
      "outputs": []
    },
    {
      "cell_type": "code",
      "metadata": {
        "id": "h_8v5J-YXpPx"
      },
      "source": [
        "!pip install pytest ipython_pytest"
      ],
      "execution_count": null,
      "outputs": []
    },
    {
      "cell_type": "markdown",
      "metadata": {
        "id": "epMbiXvmXv9m"
      },
      "source": [
        "#### Testing the package"
      ]
    },
    {
      "cell_type": "code",
      "metadata": {
        "id": "wKLH-g-wXsd6"
      },
      "source": [
        "import ipython_pytest\n",
        "%load_ext ipython_pytest"
      ],
      "execution_count": null,
      "outputs": []
    },
    {
      "cell_type": "code",
      "metadata": {
        "colab": {
          "base_uri": "https://localhost:8080/"
        },
        "id": "HkS0n_mMX3za",
        "outputId": "98f4c1d9-98d3-45d8-cb0e-61efb8262383"
      },
      "source": [
        "%%pytest\n",
        "from scraper import scraper\n",
        "from fake_useragent import UserAgent\n",
        "import pandas as pd\n",
        "import pytest\n",
        "\n",
        "def test_check_brandIdApple():\n",
        "  result = scraper.check_brandId('Apple')\n",
        "\n",
        "  assert result == 319682\n",
        "\n",
        "def test_check_brandIdLG():\n",
        "  result = scraper.check_brandId('LG')\n",
        "\n",
        "  assert result == 353985\n",
        "\n",
        "def test_check_brandIdHuawei():\n",
        "  result = scraper.check_brandId('Huawei')\n",
        "\n",
        "  assert result == 349965\n",
        "\n",
        "def test_check_brandIdSamsung():\n",
        "  result = scraper.check_brandId('Samsung')\n",
        "\n",
        "  assert result == 352130\n",
        "\n",
        "def test_check_brandIdError():\n",
        "  with pytest.raises(ValueError):\n",
        "      scraper.check_brandId('bad')\n",
        "\n",
        "def test_check_conditionNew():\n",
        "  result = scraper.check_condition(\"new\")\n",
        "  print(result)\n",
        "  assert result == 1000\n",
        "\n",
        "def test_check_conditionUsed():\n",
        "  result = scraper.check_condition('used')\n",
        "\n",
        "  assert result == 3000\n",
        "\n",
        "def test_check_conditionError():\n",
        "    with pytest.raises(ValueError):\n",
        "        scraper.check_condition('something else')\n",
        "\n",
        "def test_calculate_number_of_pages():\n",
        "    result = scraper.calculate_number_of_pages(48)\n",
        "\n",
        "    assert result == 1\n",
        "\n",
        "def test_create_datafrmae():\n",
        "  brand = \"Apple\"\n",
        "  phone_price = ['123', '456', '789']\n",
        "  phone_model = ['galaxy', 'iphone 7', 'iphone 8']\n",
        "  phone_ram = ['3 gb', '4gb', '5gb']\n",
        "  phone_storage = ['64gb', '128gb', '16gb']\n",
        "  phone_processor = ['some processor', 'some processor2', 'some processor3']\n",
        "  phone_camera = ['16', '8', '12']\n",
        "  condition = 0\n",
        "\n",
        "  result = scraper.create_dataframe(\n",
        "    brand=brand, \n",
        "    condition=condition,\n",
        "    phone_price=phone_price, \n",
        "    phone_model=phone_model, \n",
        "    phone_ram=phone_ram, \n",
        "    phone_storage=phone_storage, \n",
        "    phone_processor=phone_processor, \n",
        "    phone_camera=phone_camera\n",
        "    )\n",
        "  assert type(result) == pd.DataFrame"
      ],
      "execution_count": null,
      "outputs": [
        {
          "output_type": "stream",
          "text": [
            "============================= test session starts ==============================\n",
            "platform linux -- Python 3.6.9, pytest-3.6.4, py-1.10.0, pluggy-0.7.1\n",
            "rootdir: /tmp/tmp5kkvrjyl, inifile:\n",
            "plugins: typeguard-2.7.1\n",
            "collected 10 items\n",
            "\n",
            "_ipytesttmp.py ..........                                                [100%]\n",
            "\n",
            "========================== 10 passed in 0.32 seconds ===========================\n"
          ],
          "name": "stdout"
        }
      ]
    },
    {
      "cell_type": "markdown",
      "metadata": {
        "id": "0i9lqYwaZ1LL"
      },
      "source": [
        "## Imports to be used"
      ]
    },
    {
      "cell_type": "code",
      "metadata": {
        "id": "KGUdsmsCZ3pH"
      },
      "source": [
        "import pandas as pd\n",
        "import numpy as np\n",
        "import seaborn as sns"
      ],
      "execution_count": 1,
      "outputs": []
    },
    {
      "cell_type": "markdown",
      "metadata": {
        "id": "IYX9SEXJYLZh"
      },
      "source": [
        "## Data Wrangling functions"
      ]
    },
    {
      "cell_type": "code",
      "metadata": {
        "id": "KqrZcCQFYRVp"
      },
      "source": [
        "# defining functions to be used\n",
        "def combine_data(list_of_dataframes: list) -> pd.DataFrame:\n",
        "  \"\"\" \n",
        "  Joins passed list of dataframes\n",
        "  \n",
        "  Arg:\n",
        "    list_of_dataframes (list)\n",
        "\n",
        "  returns:\n",
        "    pd.DataFrame object of passed dataframes\n",
        "  \"\"\"\n",
        "  return pd.concat(list_of_dataframes)\n",
        "\n",
        "def sum_cameras(df: pd.DataFrame) -> list:\n",
        "  ''' takes a dataframe, finds cameras with higher str value than 6, sums them and returnes the summed values\n",
        "      \n",
        "      args:\n",
        "            df (pd.DataFrame): dataframe to be operated on\n",
        "\n",
        "      returns:\n",
        "            summed_cameras (list): list of summed values passed from the dataframe\n",
        "  '''\n",
        "  summed_cameras = []  \n",
        "\n",
        "  for item in df[df['camera'].str.len() > 6]['camera']:\n",
        "    result = [x.strip() for x in item.split(',')]\n",
        "    for i in range(len(result)):\n",
        "      if result[i] == '8.0.0':\n",
        "        result[i] = float(8)\n",
        "      else:\n",
        "        result[i] = float(result[i])\n",
        "    summed_cameras.append(sum(result))\n",
        "  \n",
        "  return summed_cameras\n",
        "\n",
        "def rename_phone_model(bad_name_model: str, good_name_model: str, df: pd.DataFrame) -> None:\n",
        "  \"\"\" \n",
        "  Renames a given name of the model, with a provided name of the model\n",
        "  \n",
        "  Arg:\n",
        "    bad_name_model (str) : name to be replaced\n",
        "    good_name_model (str) : name to be replaced with\n",
        "    df (pd.DataFrame) : dataframe to be cleaned\n",
        "\n",
        "  returns:\n",
        "        None\n",
        "  \"\"\"\n",
        "  df[df['model'] == bad_name_model] = good_name_model\n",
        "\n",
        "def remove_unwanted_models(df: pd.DataFrame, model_name: str) -> None:\n",
        "  \"\"\" \n",
        "  Removes given models\n",
        "\n",
        "  Arg:\n",
        "    bad_name_model (str) : name to be replaced\n",
        "    good_name_model (str) : name to be replaced with\n",
        "    df (pd.DataFrame) : dataframe to be cleaned\n",
        "\n",
        "  returns:\n",
        "        None\n",
        "  \"\"\"\n",
        "  models = df[df['model'] == model_name].index\n",
        "\n",
        "  df.drop(models, inplace=True)\n",
        "\n",
        "def clean_columns(df: pd.DataFrame, characters: list, column: str, replace_char: str = \"\") -> pd.DataFrame:\n",
        "  '''\n",
        "  Accepts a pd.DataFrame, characters, column. Removes passed characters, returns clean pd.DataFrame\n",
        "\n",
        "  Arg: df (pd.DataFrame): DataFrame to be cleaned,\n",
        "       characters (list): list of characters to be removed\n",
        "       column (str): name of the column to be cleaned\n",
        "       replace_char (str) : default value is empty, but if specified, can replace the value as well\n",
        "  returns:\n",
        "      df (pd.DataFrame): cleaned DataFrame\n",
        "  '''\n",
        "  for char in characters:\n",
        "    df[column] = df[column].str.replace(char, replace_char)\n",
        "\n",
        "  return df \n",
        "\n",
        "def convert_data_to_numeric(df: pd.DataFrame) -> None:\n",
        "  '''\n",
        "  Accepts a pd.DataFrame, converts its columns to numeric\n",
        "\n",
        "  Arg: df (pd.DataFrame): DataFrame to be converted to numeric\n",
        "  \n",
        "  returns:\n",
        "      df (pd.DataFrame): numeric DataFrame\n",
        "  '''\n",
        "\n",
        "  df['storage'] = pd.to_numeric(df['storage'])\n",
        "  df['price'] = pd.to_numeric(df['price'])\n",
        "  df['camera'] = pd.to_numeric(df['camera'])\n",
        "  df['ram'] = pd.to_numeric(df['ram'])\n",
        "\n",
        "def remove_rows_with_false_values(df: pd.DataFrame) -> None:\n",
        "  '''\n",
        "  Accepts a pd.DataFrame, removes rows that have same value in each column\n",
        "\n",
        "  Arg: df (pd.DataFrame): DataFrame to be cleaned\n",
        "  \n",
        "  returns:\n",
        "        None\n",
        "  '''\n",
        "\n",
        "  df.drop(df[df['processor'] == df['camera']].index, inplace=True)\n",
        "\n",
        "def populate_columns_by_model_mean(df: pd.DataFrame) -> None:\n",
        "  '''\n",
        "  Accepts a pd.DataFrame, replaces ram memory in each row by model mean value\n",
        "\n",
        "  Arg: df (pd.DataFrame): DataFrame to be cleaned\n",
        "  \n",
        "  returns:\n",
        "        None\n",
        "  '''\n",
        "  models_ram_values = df.groupby('model').agg({'ram': 'mean'})['ram']\n",
        "  models_camera_values = df.groupby('model').agg({'camera': 'mean'})['camera']\n",
        "  models_processor_values = df.groupby('model').agg({'processor': pd.Series.mode})['processor']\n",
        "\n",
        "  for model, value in models_ram_values.items():\n",
        "    temp_index = df[df['model'] == model].index\n",
        "\n",
        "    for i in temp_index:\n",
        "      df.at[i, 'ram'] = value\n",
        "  \n",
        "  for model, value in models_camera_values.items():\n",
        "    temp_index = df[df['model'] == model].index\n",
        "\n",
        "    for i in temp_index:\n",
        "      df.at[i, 'camera'] = value\n",
        "\n",
        "  for model, value in models_processor_values.items():\n",
        "    if type(value) == np.ndarray:\n",
        "      pass\n",
        "    else:\n",
        "      temp_index = df[df['model'] == model].index\n",
        "\n",
        "      for i in temp_index:\n",
        "        df.at[i, 'processor'] = value\n",
        "\n",
        "def replace_mb_to_gb(df: pd.DataFrame, mb_limit: int, column_name: str) -> None:\n",
        "  '''\n",
        "  Accepts a pd.DataFrame, limit to be passed of the mb, name of the column,\n",
        "  moves decimal by 3 places to convert it from GB to MB\n",
        "\n",
        "  Arg: \n",
        "    df (pd.DataFrame): DataFrame to be cleaned\n",
        "    mb_limit (int) : limit value that we want for specific column to be searched for\n",
        "    column_name (str) : name of the column to be transformed from MB to GB\n",
        "  \n",
        "  returns:\n",
        "        None\n",
        "  '''\n",
        "  mb = df[df[column_name] > mb_limit][column_name].tolist()\n",
        "  mb_index = df[df[column_name] > mb_limit].index\n",
        "  \n",
        "  converted = [(ram / 1000) for ram in mb]\n",
        "\n",
        "  for i in range(len(mb_index)):\n",
        "    df.at[mb_index[i], column_name] = converted[i]\n",
        "\n",
        "def replace_specific_value(df: pd.DataFrame, original_value: str, new_value: str, column_name) -> None:\n",
        "  '''\n",
        "  Accepts a pd.DataFrame, replaces old value with a new value in the specified column\n",
        "\n",
        "  Arg: \n",
        "    df (pd.DataFrame): DataFrame to be changed\n",
        "    original_value (int) : value we want to replace\n",
        "    new_value (str, int) : value that will change original_value\n",
        "    column_name (str) : name of the column that needs to be changed\n",
        "  \n",
        "  returns:\n",
        "        None\n",
        "  '''\n",
        "  original_value_idx = df[df[column_name] == original_value].index\n",
        "\n",
        "  for i in range(len(original_value_idx)):\n",
        "    df.at[original_value_idx[i], column_name] = new_value\n",
        "\n",
        "def multi_camera_phones_to_single_value(df: pd.DataFrame) -> None:\n",
        "  '''\n",
        "  accepts a dataframe, sums cameras from camera column and replaces their value with summed value\n",
        "\n",
        "  Arg: \n",
        "    df (pd.DataFrame): DataFrame to be changed\n",
        "  \n",
        "  returns:\n",
        "        None\n",
        "  '''\n",
        "  cameras_to_be_replaced = df[df['camera'].str.len() > 6].index\n",
        "  summed_cameras = sum_cameras(df)\n",
        "\n",
        "  for i in range(len(cameras_to_be_replaced)):\n",
        "    df.at[cameras_to_be_replaced[i], 'camera'] = summed_cameras[i]\n",
        "\n",
        "# onehot encode function\n",
        "def onehot_encode(df, column, prefix):\n",
        "  '''\n",
        "  Hot encodes a given column, and adds it to a Dataframe\n",
        "\n",
        "  Arg: \n",
        "    df (pd.DataFrame): DataFrame to be hot encoded\n",
        "    prefix (str) : prefix to be given to hot encoded columns\n",
        "    column (str) : name of the column that needs to be changed\n",
        "  \n",
        "  returns:\n",
        "        None\n",
        "  '''\n",
        "  df = df.copy()\n",
        "  dummies = pd.get_dummies(df[column], prefix=prefix)\n",
        "  df = pd.concat([df, dummies], axis=1)\n",
        "  df = df.drop(column, axis=1)\n",
        "  return df\n",
        "\n",
        "def update_specific_model_ram(model_name: str, ram: int, df: pd.DataFrame) -> None:\n",
        "  '''\n",
        "  Accepts a pd.DataFrame, replaces ram memory in for a given model name\n",
        "\n",
        "  Arg: \n",
        "    df (pd.DataFrame): DataFrame to be cleaned\n",
        "    model_name (str) : name of the model\n",
        "    ram (int) : value to be updated\n",
        "  \n",
        "  returns:\n",
        "        None\n",
        "  '''\n",
        "  model_index = df[df['model'] == model_name].index\n",
        "\n",
        "  for i in model_index:\n",
        "    df.at[i, 'ram'] = ram"
      ],
      "execution_count": 2,
      "outputs": []
    },
    {
      "cell_type": "markdown",
      "metadata": {
        "id": "YUncgiBCao6x"
      },
      "source": [
        "## Data Wrangling"
      ]
    },
    {
      "cell_type": "code",
      "metadata": {
        "id": "vL3rv7YVasHq"
      },
      "source": [
        "apple_new_data = pd.read_csv('Apple_new_data.csv')\n",
        "apple_used_data = pd.read_csv('Apple_used_data.csv')\n",
        "huawei_new_data = pd.read_csv('Huawei_new_data.csv')\n",
        "huawei_used_data = pd.read_csv('Huawei_used_data.csv')\n",
        "samsung_new_data = pd.read_csv('Samsung_new_data.csv')\n",
        "samsung_used_data = pd.read_csv('Samsung_used_data.csv')"
      ],
      "execution_count": 3,
      "outputs": []
    },
    {
      "cell_type": "code",
      "metadata": {
        "id": "FbqcWmy6axma"
      },
      "source": [
        "# adding condition to data\n",
        "apple_new_data['condition'] = 'new'\n",
        "apple_used_data['condition'] = 'used'\n",
        "\n",
        "huawei_new_data['condition'] = 'new'\n",
        "huawei_used_data['condition'] = 'used'\n",
        "\n",
        "samsung_new_data['condition'] = 'new'\n",
        "samsung_used_data['condition'] = 'used'"
      ],
      "execution_count": 4,
      "outputs": []
    },
    {
      "cell_type": "code",
      "metadata": {
        "id": "h8DkrPuOa6-L"
      },
      "source": [
        "# join dataframes\n",
        "list_of_df = [apple_new_data,\n",
        "                 apple_used_data,\n",
        "                 huawei_new_data,\n",
        "                 huawei_used_data,\n",
        "                 samsung_new_data,\n",
        "                 samsung_used_data]\n",
        "\n",
        "phone_data = combine_data(list_of_df)"
      ],
      "execution_count": 5,
      "outputs": []
    },
    {
      "cell_type": "code",
      "metadata": {
        "colab": {
          "base_uri": "https://localhost:8080/"
        },
        "id": "ymxNOPGJdbSX",
        "outputId": "947f91d7-7268-428a-fc8a-8b3a88b3b5d1"
      },
      "source": [
        "phone_data.shape"
      ],
      "execution_count": 6,
      "outputs": [
        {
          "output_type": "execute_result",
          "data": {
            "text/plain": [
              "(14853, 8)"
            ]
          },
          "metadata": {
            "tags": []
          },
          "execution_count": 6
        }
      ]
    },
    {
      "cell_type": "code",
      "metadata": {
        "colab": {
          "base_uri": "https://localhost:8080/"
        },
        "id": "Uhlz22jtdMT6",
        "outputId": "0e07c326-c4c4-4b6a-87ec-214a4e3631d6"
      },
      "source": [
        "phone_data.isnull().sum()"
      ],
      "execution_count": 7,
      "outputs": [
        {
          "output_type": "execute_result",
          "data": {
            "text/plain": [
              "price        6600\n",
              "model        8517\n",
              "ram          8024\n",
              "storage      8492\n",
              "processor    8612\n",
              "camera       8901\n",
              "brand           0\n",
              "condition       0\n",
              "dtype: int64"
            ]
          },
          "metadata": {
            "tags": []
          },
          "execution_count": 7
        }
      ]
    },
    {
      "cell_type": "markdown",
      "metadata": {
        "id": "AD1t32HTdw4f"
      },
      "source": [
        "- Replacable Data: RAM, Processor and Camera resolution.\n",
        "\n",
        "\n",
        "\n",
        "- Irreplaceable Data: price, model and storage, because we don't know precise sold price of the phone or correct model, as well same models come with different storage regardless of other specifics.\n"
      ]
    },
    {
      "cell_type": "code",
      "metadata": {
        "id": "rjsh8rYTdjNS"
      },
      "source": [
        "# dropping rows where price, model and storage is NaN\n",
        "phone_data = phone_data.dropna(subset=['price', 'model', 'storage'])"
      ],
      "execution_count": 8,
      "outputs": []
    },
    {
      "cell_type": "markdown",
      "metadata": {
        "id": "e_aF5Of_g-pK"
      },
      "source": [
        "The data contains extra characters in columns, we will remove all the string characters and leave only numeric characters"
      ]
    },
    {
      "cell_type": "code",
      "metadata": {
        "id": "e7FsuTpvmfwt"
      },
      "source": [
        "phone_data = clean_columns(phone_data, ['$', ','], 'price')\n",
        "phone_data = clean_columns(phone_data, ['GB', 'gb', 'mb', 'MB'], 'storage')\n",
        "phone_data = clean_columns(phone_data, ['MP', 'mb'], 'camera')\n",
        "phone_data = clean_columns(phone_data, ['MB', 'GB', 'gb'], 'ram')\n",
        "phone_data = clean_columns(phone_data, ['+'], 'camera', replace_char=\",\")"
      ],
      "execution_count": 9,
      "outputs": []
    },
    {
      "cell_type": "markdown",
      "metadata": {
        "id": "y8LTnl54NCGb"
      },
      "source": [
        "Some phones have differently formated model names, we will manually replace those"
      ]
    },
    {
      "cell_type": "code",
      "metadata": {
        "id": "OTxfxh6GM33z"
      },
      "source": [
        "rename_phone_model('5', 'Apple iPhone 5', phone_data)\n",
        "rename_phone_model('iPhone 6s.', 'Apple iPhone 6s', phone_data)"
      ],
      "execution_count": 10,
      "outputs": []
    },
    {
      "cell_type": "markdown",
      "metadata": {
        "id": "9ZiNbTxKiCqo"
      },
      "source": [
        "Some rows as well contain false values, <br />\n",
        "example: all columns of a row are represented by a value of 1, we will remove those"
      ]
    },
    {
      "cell_type": "code",
      "metadata": {
        "id": "gnUhWiIkh-Sl"
      },
      "source": [
        "remove_rows_with_false_values(phone_data)"
      ],
      "execution_count": 11,
      "outputs": []
    },
    {
      "cell_type": "code",
      "metadata": {
        "id": "AfD7L09enez-"
      },
      "source": [
        "phone_data.reset_index(drop=True, inplace=True)"
      ],
      "execution_count": 12,
      "outputs": []
    },
    {
      "cell_type": "markdown",
      "metadata": {
        "id": "qBfX-wiDpp1S"
      },
      "source": [
        "Some models have more than one camera, or camera is named as Vga so we will need to sum the values of them and replace Vga with a numeric value"
      ]
    },
    {
      "cell_type": "code",
      "metadata": {
        "id": "kw5ybeIGpyXY"
      },
      "source": [
        "multi_camera_phones_to_single_value(phone_data)\n",
        "replace_specific_value(phone_data, 'Vga', 43, 'camera')"
      ],
      "execution_count": 13,
      "outputs": []
    },
    {
      "cell_type": "markdown",
      "metadata": {
        "id": "STRc-sMMiefO"
      },
      "source": [
        "Convert the data to numeric values"
      ]
    },
    {
      "cell_type": "code",
      "metadata": {
        "id": "n2wh6zhxibnn"
      },
      "source": [
        "convert_data_to_numeric(phone_data)"
      ],
      "execution_count": 14,
      "outputs": []
    },
    {
      "cell_type": "markdown",
      "metadata": {
        "id": "PqCU3Tz1Vjqp"
      },
      "source": [
        "Lets rename badly written proccessors"
      ]
    },
    {
      "cell_type": "code",
      "metadata": {
        "id": "ziRo2NjtVq8r"
      },
      "source": [
        "replace_specific_value(phone_data, 'Quad+Quad Core', 'Quad Core', 'processor')"
      ],
      "execution_count": 15,
      "outputs": []
    },
    {
      "cell_type": "markdown",
      "metadata": {
        "id": "A5TwZnpuqM5a"
      },
      "source": [
        "We will use a function to populate ram and camera missing values by their model mean"
      ]
    },
    {
      "cell_type": "code",
      "metadata": {
        "id": "0wpqROMZqLlC"
      },
      "source": [
        "populate_columns_by_model_mean(phone_data)\n",
        "update_specific_model_ram('Apple iPhone 12 Pro Max', 6, phone_data)\n",
        "update_specific_model_ram('Apple iPhone 12 mini', 4, phone_data)"
      ],
      "execution_count": 16,
      "outputs": []
    },
    {
      "cell_type": "code",
      "metadata": {
        "colab": {
          "base_uri": "https://localhost:8080/"
        },
        "id": "setLl9eds8e-",
        "outputId": "75baf499-0401-4845-dc13-d3773e83b22d"
      },
      "source": [
        "phone_data.isnull().sum()"
      ],
      "execution_count": 17,
      "outputs": [
        {
          "output_type": "execute_result",
          "data": {
            "text/plain": [
              "price         0\n",
              "model         0\n",
              "ram          52\n",
              "storage       0\n",
              "processor    40\n",
              "camera       33\n",
              "brand         0\n",
              "condition     0\n",
              "dtype: int64"
            ]
          },
          "metadata": {
            "tags": []
          },
          "execution_count": 17
        }
      ]
    },
    {
      "cell_type": "markdown",
      "metadata": {
        "id": "2ZY3HkUZcJbX"
      },
      "source": [
        "We are left with only unique models, we could search online and replace manually by hand, but to save time, we will drop those rows with missing value"
      ]
    },
    {
      "cell_type": "code",
      "metadata": {
        "id": "6HRPOeXJTMbH"
      },
      "source": [
        "phone_data.dropna(inplace=True)"
      ],
      "execution_count": 18,
      "outputs": []
    },
    {
      "cell_type": "markdown",
      "metadata": {
        "id": "LWJkAc5akDyi"
      },
      "source": [
        "Lets convert MB to GB"
      ]
    },
    {
      "cell_type": "code",
      "metadata": {
        "id": "yRm4Q98dkJn3"
      },
      "source": [
        "# if there is a model with more than 16 gb ram, we will assume its mb\n",
        "replace_mb_to_gb(phone_data, 16, 'ram')\n",
        "replace_mb_to_gb(phone_data, 512, 'storage')"
      ],
      "execution_count": 19,
      "outputs": []
    },
    {
      "cell_type": "code",
      "metadata": {
        "id": "7l4phIS4kjX9"
      },
      "source": [
        "phone_data.reset_index(drop=True, inplace=True)"
      ],
      "execution_count": 20,
      "outputs": []
    },
    {
      "cell_type": "markdown",
      "metadata": {
        "id": "S7cFJDXNkuD6"
      },
      "source": [
        "## Data EDA"
      ]
    },
    {
      "cell_type": "code",
      "metadata": {
        "colab": {
          "base_uri": "https://localhost:8080/",
          "height": 0
        },
        "id": "58G2cSFWv5lF",
        "outputId": "2f842f9b-ef64-4c83-9dad-5c8cebf43f34"
      },
      "source": [
        "phone_data.head(5)"
      ],
      "execution_count": 21,
      "outputs": [
        {
          "output_type": "execute_result",
          "data": {
            "text/html": [
              "<div>\n",
              "<style scoped>\n",
              "    .dataframe tbody tr th:only-of-type {\n",
              "        vertical-align: middle;\n",
              "    }\n",
              "\n",
              "    .dataframe tbody tr th {\n",
              "        vertical-align: top;\n",
              "    }\n",
              "\n",
              "    .dataframe thead th {\n",
              "        text-align: right;\n",
              "    }\n",
              "</style>\n",
              "<table border=\"1\" class=\"dataframe\">\n",
              "  <thead>\n",
              "    <tr style=\"text-align: right;\">\n",
              "      <th></th>\n",
              "      <th>price</th>\n",
              "      <th>model</th>\n",
              "      <th>ram</th>\n",
              "      <th>storage</th>\n",
              "      <th>processor</th>\n",
              "      <th>camera</th>\n",
              "      <th>brand</th>\n",
              "      <th>condition</th>\n",
              "    </tr>\n",
              "  </thead>\n",
              "  <tbody>\n",
              "    <tr>\n",
              "      <th>0</th>\n",
              "      <td>618.41</td>\n",
              "      <td>Apple iPhone XR</td>\n",
              "      <td>3.0</td>\n",
              "      <td>256</td>\n",
              "      <td>Hexa Core</td>\n",
              "      <td>12.0</td>\n",
              "      <td>Apple</td>\n",
              "      <td>new</td>\n",
              "    </tr>\n",
              "    <tr>\n",
              "      <th>1</th>\n",
              "      <td>850.00</td>\n",
              "      <td>Apple iPhone 11 Pro</td>\n",
              "      <td>4.0</td>\n",
              "      <td>64</td>\n",
              "      <td>Hexa Core</td>\n",
              "      <td>12.0</td>\n",
              "      <td>Apple</td>\n",
              "      <td>new</td>\n",
              "    </tr>\n",
              "    <tr>\n",
              "      <th>2</th>\n",
              "      <td>1534.65</td>\n",
              "      <td>Apple iPhone 12 Pro Max</td>\n",
              "      <td>6.0</td>\n",
              "      <td>256</td>\n",
              "      <td>Hexa Core</td>\n",
              "      <td>12.0</td>\n",
              "      <td>Apple</td>\n",
              "      <td>new</td>\n",
              "    </tr>\n",
              "    <tr>\n",
              "      <th>3</th>\n",
              "      <td>1332.11</td>\n",
              "      <td>Apple iPhone 12 Pro Max</td>\n",
              "      <td>6.0</td>\n",
              "      <td>256</td>\n",
              "      <td>Hexa Core</td>\n",
              "      <td>12.0</td>\n",
              "      <td>Apple</td>\n",
              "      <td>new</td>\n",
              "    </tr>\n",
              "    <tr>\n",
              "      <th>4</th>\n",
              "      <td>1412.31</td>\n",
              "      <td>Apple iPhone 12 Pro</td>\n",
              "      <td>6.0</td>\n",
              "      <td>128</td>\n",
              "      <td>Hexa Core</td>\n",
              "      <td>12.0</td>\n",
              "      <td>Apple</td>\n",
              "      <td>new</td>\n",
              "    </tr>\n",
              "  </tbody>\n",
              "</table>\n",
              "</div>"
            ],
            "text/plain": [
              "     price                    model  ram  ...  camera  brand  condition\n",
              "0   618.41          Apple iPhone XR  3.0  ...    12.0  Apple        new\n",
              "1   850.00      Apple iPhone 11 Pro  4.0  ...    12.0  Apple        new\n",
              "2  1534.65  Apple iPhone 12 Pro Max  6.0  ...    12.0  Apple        new\n",
              "3  1332.11  Apple iPhone 12 Pro Max  6.0  ...    12.0  Apple        new\n",
              "4  1412.31      Apple iPhone 12 Pro  6.0  ...    12.0  Apple        new\n",
              "\n",
              "[5 rows x 8 columns]"
            ]
          },
          "metadata": {
            "tags": []
          },
          "execution_count": 21
        }
      ]
    },
    {
      "cell_type": "code",
      "metadata": {
        "colab": {
          "base_uri": "https://localhost:8080/"
        },
        "id": "2qqNefsbuX5A",
        "outputId": "75210c83-a75e-4345-b2c4-2ea2a447bf1c"
      },
      "source": [
        "phone_data['price'].describe()"
      ],
      "execution_count": 22,
      "outputs": [
        {
          "output_type": "execute_result",
          "data": {
            "text/plain": [
              "count    5603.000000\n",
              "mean      650.917987\n",
              "std       572.341905\n",
              "min         4.080000\n",
              "25%       224.270000\n",
              "50%       441.770000\n",
              "75%       951.500000\n",
              "max      4703.180000\n",
              "Name: price, dtype: float64"
            ]
          },
          "metadata": {
            "tags": []
          },
          "execution_count": 22
        }
      ]
    },
    {
      "cell_type": "markdown",
      "metadata": {
        "id": "84rJMLxkucIB"
      },
      "source": [
        "Price feature seems right skewed, \n",
        "min is 4,\n",
        "median is 441, \n",
        "max is 4703"
      ]
    },
    {
      "cell_type": "code",
      "metadata": {
        "colab": {
          "base_uri": "https://localhost:8080/",
          "height": 0
        },
        "id": "JCTj4T-6kynb",
        "outputId": "4608e4f0-7021-408f-e272-4df01c5794da"
      },
      "source": [
        "sns.distplot(phone_data['price'])"
      ],
      "execution_count": 23,
      "outputs": [
        {
          "output_type": "stream",
          "text": [
            "/usr/local/lib/python3.6/dist-packages/seaborn/distributions.py:2557: FutureWarning: `distplot` is a deprecated function and will be removed in a future version. Please adapt your code to use either `displot` (a figure-level function with similar flexibility) or `histplot` (an axes-level function for histograms).\n",
            "  warnings.warn(msg, FutureWarning)\n"
          ],
          "name": "stderr"
        },
        {
          "output_type": "execute_result",
          "data": {
            "text/plain": [
              "<matplotlib.axes._subplots.AxesSubplot at 0x7f9e9f06d1d0>"
            ]
          },
          "metadata": {
            "tags": []
          },
          "execution_count": 23
        },
        {
          "output_type": "display_data",
          "data": {
            "image/png": "[encoded data removed]",
            "text/plain": [
              "<Figure size 432x288 with 1 Axes>"
            ]
          },
          "metadata": {
            "tags": [],
            "needs_background": "light"
          }
        }
      ]
    },
    {
      "cell_type": "markdown",
      "metadata": {
        "id": "q5JlQEIWu4BN"
      },
      "source": [
        "- We can try to normalize the distribution later and remove the outliers"
      ]
    },
    {
      "cell_type": "code",
      "metadata": {
        "colab": {
          "base_uri": "https://localhost:8080/",
          "height": 0
        },
        "id": "NLMLcHVOu7PD",
        "outputId": "2ab53fdf-1c18-4983-c93f-f67dee06ce2c"
      },
      "source": [
        "sns.histplot(phone_data['ram'])"
      ],
      "execution_count": 24,
      "outputs": [
        {
          "output_type": "execute_result",
          "data": {
            "text/plain": [
              "<matplotlib.axes._subplots.AxesSubplot at 0x7f9e9f1cf550>"
            ]
          },
          "metadata": {
            "tags": []
          },
          "execution_count": 24
        },
        {
          "output_type": "display_data",
          "data": {
            "image/png": "[encoded data removed]",
            "text/plain": [
              "<Figure size 432x288 with 1 Axes>"
            ]
          },
          "metadata": {
            "tags": [],
            "needs_background": "light"
          }
        }
      ]
    },
    {
      "cell_type": "markdown",
      "metadata": {
        "id": "AkQlatxcvFeY"
      },
      "source": [
        "- We can threat it as a continuos variable"
      ]
    },
    {
      "cell_type": "code",
      "metadata": {
        "colab": {
          "base_uri": "https://localhost:8080/",
          "height": 0
        },
        "id": "2QBP_JPzvUZL",
        "outputId": "9bfe0a35-6430-4e62-d87c-00d5e59916fc"
      },
      "source": [
        "sns.histplot(phone_data['storage'])"
      ],
      "execution_count": 25,
      "outputs": [
        {
          "output_type": "execute_result",
          "data": {
            "text/plain": [
              "<matplotlib.axes._subplots.AxesSubplot at 0x7f9e9eb19668>"
            ]
          },
          "metadata": {
            "tags": []
          },
          "execution_count": 25
        },
        {
          "output_type": "display_data",
          "data": {
            "image/png": "[encoded data removed]",
            "text/plain": [
              "<Figure size 432x288 with 1 Axes>"
            ]
          },
          "metadata": {
            "tags": [],
            "needs_background": "light"
          }
        }
      ]
    },
    {
      "cell_type": "markdown",
      "metadata": {
        "id": "N1ITCj9SvmCS"
      },
      "source": [
        "- We may try to encode storage"
      ]
    },
    {
      "cell_type": "code",
      "metadata": {
        "colab": {
          "base_uri": "https://localhost:8080/",
          "height": 0
        },
        "id": "L-HVXxvgv2Gn",
        "outputId": "bcb1ec03-c149-4e30-e3c7-7cc66ac778d0"
      },
      "source": [
        "sns.histplot(phone_data['camera'])"
      ],
      "execution_count": 26,
      "outputs": [
        {
          "output_type": "execute_result",
          "data": {
            "text/plain": [
              "<matplotlib.axes._subplots.AxesSubplot at 0x7f9e9ea7da90>"
            ]
          },
          "metadata": {
            "tags": []
          },
          "execution_count": 26
        },
        {
          "output_type": "display_data",
          "data": {
            "image/png": "[encoded data removed]",
            "text/plain": [
              "<Figure size 432x288 with 1 Axes>"
            ]
          },
          "metadata": {
            "tags": [],
            "needs_background": "light"
          }
        }
      ]
    },
    {
      "cell_type": "markdown",
      "metadata": {
        "id": "uUAIIUmjwBzH"
      },
      "source": [
        "- Looking at the camera feature, we see that it is highly skewed, we may try to bin it in categories"
      ]
    },
    {
      "cell_type": "markdown",
      "metadata": {
        "id": "c7zZc-JU02DB"
      },
      "source": [
        "Lets check number of unique processors that we have"
      ]
    },
    {
      "cell_type": "code",
      "metadata": {
        "colab": {
          "base_uri": "https://localhost:8080/"
        },
        "id": "0EleoxI508AT",
        "outputId": "babb5a42-5ed2-4ab5-9ee0-272a8011f7af"
      },
      "source": [
        "phone_data['processor'].unique().tolist()"
      ],
      "execution_count": 27,
      "outputs": [
        {
          "output_type": "execute_result",
          "data": {
            "text/plain": [
              "['Hexa Core', 'Dual Core', 'Quad Core', 'Single Core', 'Octa Core']"
            ]
          },
          "metadata": {
            "tags": []
          },
          "execution_count": 27
        }
      ]
    },
    {
      "cell_type": "markdown",
      "metadata": {
        "id": "UM1EFmUC1ap_"
      },
      "source": [
        "- We can do ordinal encoding for processor feature"
      ]
    },
    {
      "cell_type": "markdown",
      "metadata": {
        "id": "GSctRnTJ11cQ"
      },
      "source": [
        "Lets check model names"
      ]
    },
    {
      "cell_type": "code",
      "metadata": {
        "colab": {
          "base_uri": "https://localhost:8080/"
        },
        "id": "VejqbHOh15Fy",
        "outputId": "a8ac9db4-447a-44bc-b18e-f19e5f02602f"
      },
      "source": [
        "phone_data['model'].unique().shape"
      ],
      "execution_count": 28,
      "outputs": [
        {
          "output_type": "execute_result",
          "data": {
            "text/plain": [
              "(198,)"
            ]
          },
          "metadata": {
            "tags": []
          },
          "execution_count": 28
        }
      ]
    },
    {
      "cell_type": "markdown",
      "metadata": {
        "id": "eMd1WcfI2EkC"
      },
      "source": [
        "- We may try to label encode the model feature, or we can decide to remove the feature later as well"
      ]
    },
    {
      "cell_type": "markdown",
      "metadata": {
        "id": "0J72RgBR2Tw8"
      },
      "source": [
        "And we have condition column"
      ]
    },
    {
      "cell_type": "code",
      "metadata": {
        "colab": {
          "base_uri": "https://localhost:8080/"
        },
        "id": "i23sOaxg2eFZ",
        "outputId": "22a29926-0d86-4b27-d8fe-9805d5fa6567"
      },
      "source": [
        "phone_data['condition'].unique().tolist()"
      ],
      "execution_count": 29,
      "outputs": [
        {
          "output_type": "execute_result",
          "data": {
            "text/plain": [
              "['new', 'used']"
            ]
          },
          "metadata": {
            "tags": []
          },
          "execution_count": 29
        }
      ]
    },
    {
      "cell_type": "markdown",
      "metadata": {
        "id": "LAnmdCPz2lQt"
      },
      "source": [
        "- We will hot-encode this feature"
      ]
    },
    {
      "cell_type": "markdown",
      "metadata": {
        "id": "qmVUiEZ5x0VO"
      },
      "source": [
        "## Modeling"
      ]
    },
    {
      "cell_type": "markdown",
      "metadata": {
        "id": "nRz_svOQyyvA"
      },
      "source": [
        "Lets create a baseline model"
      ]
    },
    {
      "cell_type": "code",
      "metadata": {
        "id": "KXv5ckK3x7W2"
      },
      "source": [
        "from sklearn.model_selection import RandomizedSearchCV\n",
        "from sklearn.pipeline import Pipeline\n",
        "from sklearn.metrics import mean_squared_error\n",
        "from sklearn.ensemble import RandomForestRegressor\n",
        "from sklearn.compose import ColumnTransformer\n",
        "from sklearn import preprocessing\n",
        "from sklearn.model_selection import train_test_split\n",
        "\n",
        "RANDOM_STATE = 42"
      ],
      "execution_count": 30,
      "outputs": []
    },
    {
      "cell_type": "code",
      "metadata": {
        "id": "bXGyFEUdeK3b"
      },
      "source": [
        "features_to_use = ['brand', 'ram', 'processor', 'condition', 'storage', 'camera']\n",
        "\n",
        "x_train, x_test, y_train, y_test = train_test_split(\n",
        "    phone_data[features_to_use],\n",
        "    phone_data['price'],\n",
        "    test_size=0.2,\n",
        "    random_state=RANDOM_STATE\n",
        ")"
      ],
      "execution_count": 31,
      "outputs": []
    },
    {
      "cell_type": "code",
      "metadata": {
        "id": "ZQIDlLMoe2zt"
      },
      "source": [
        "features_to_encode = ['processor', 'brand', 'condition']\n",
        "\n",
        "\n",
        "preprocessor = ColumnTransformer(\n",
        "    transformers=[\n",
        "        ('hot_encode', preprocessing.OneHotEncoder(), features_to_encode),\n",
        "    ],\n",
        "    remainder='passthrough'\n",
        ")"
      ],
      "execution_count": 32,
      "outputs": []
    },
    {
      "cell_type": "code",
      "metadata": {
        "id": "wjNw3MhxXlBS"
      },
      "source": [
        "param_grid = { \n",
        "    'model__n_estimators': [100],\n",
        "    'model__max_features': ['auto', 'log2', 'sqrt'],\n",
        "    'model__max_depth' : [5, 7, 9, 12, 15, 20]\n",
        "}\n",
        "\n",
        "rfr = RandomForestRegressor(random_state=RANDOM_STATE)"
      ],
      "execution_count": 34,
      "outputs": []
    },
    {
      "cell_type": "code",
      "metadata": {
        "id": "yPaAugI9a8Bv"
      },
      "source": [
        "pipe = Pipeline(\n",
        "    [\n",
        "        ('preprocessor', preprocessor),\n",
        "        ('model', rfr)\n",
        "    ]\n",
        ")"
      ],
      "execution_count": 35,
      "outputs": []
    },
    {
      "cell_type": "code",
      "metadata": {
        "colab": {
          "base_uri": "https://localhost:8080/"
        },
        "id": "alNopHZKe90v",
        "outputId": "dff4859d-ea51-441c-ce64-956d65e96295"
      },
      "source": [
        "rs_rfr = RandomizedSearchCV(pipe,\n",
        "                            param_grid,\n",
        "                            n_iter=15,\n",
        "                            cv=10,\n",
        "                            n_jobs=-1,\n",
        "                            random_state=RANDOM_STATE,\n",
        "                            scoring='neg_mean_squared_error')\n",
        "\n",
        "rs_rfr.fit(x_train, y_train)\n",
        "rs_rfr.best_params_"
      ],
      "execution_count": 36,
      "outputs": [
        {
          "output_type": "execute_result",
          "data": {
            "text/plain": [
              "{'model__max_depth': 12,\n",
              " 'model__max_features': 'sqrt',\n",
              " 'model__n_estimators': 100}"
            ]
          },
          "metadata": {
            "tags": []
          },
          "execution_count": 36
        }
      ]
    },
    {
      "cell_type": "code",
      "metadata": {
        "colab": {
          "base_uri": "https://localhost:8080/"
        },
        "id": "scY9uXDV7DQT",
        "outputId": "0a896f4d-1fff-4684-b95f-f26bf4ca9d1e"
      },
      "source": [
        "rs_rfr.best_score_ * -1"
      ],
      "execution_count": 37,
      "outputs": [
        {
          "output_type": "execute_result",
          "data": {
            "text/plain": [
              "73380.21840798622"
            ]
          },
          "metadata": {
            "tags": []
          },
          "execution_count": 37
        }
      ]
    },
    {
      "cell_type": "code",
      "metadata": {
        "id": "jHte6m_V6v_a"
      },
      "source": [
        "rfr_final = RandomForestRegressor(max_depth=12, max_features='sqrt', n_estimators=5000)\n",
        "pipe_final = Pipeline(\n",
        "    [\n",
        "        ('preprocessor', preprocessor),\n",
        "        ('model', rfr_final)\n",
        "    ]\n",
        ")\n",
        "pipe_final.fit(x_train, y_train)"
      ],
      "execution_count": null,
      "outputs": []
    },
    {
      "cell_type": "code",
      "metadata": {
        "colab": {
          "base_uri": "https://localhost:8080/"
        },
        "id": "gJ75xGwF8JqC",
        "outputId": "03665d2e-cba4-4d5c-af3e-7f73fed60d00"
      },
      "source": [
        "y_pred = pipe_final.predict(x_test)\n",
        "print('Validation mean squared error is', mean_squared_error(y_test, y_pred))"
      ],
      "execution_count": 42,
      "outputs": [
        {
          "output_type": "stream",
          "text": [
            "Validation mean squared error is 83721.51262091585\n"
          ],
          "name": "stdout"
        }
      ]
    },
    {
      "cell_type": "markdown",
      "metadata": {
        "id": "oReWKPvE9_tp"
      },
      "source": [
        "We could do feature engineering, try to normalize the distribution of the price feature, we could remove outliers, check feature importance, add artificial features, try to scrape more information about a specific phone or get more data, but to save time we will export this model."
      ]
    },
    {
      "cell_type": "code",
      "metadata": {
        "id": "y-YWzXwI9UUE"
      },
      "source": [
        "import pickle\n",
        "\n",
        "pickle.dump(pipe_final, open(\"rfr.pkl\", \"wb\"))"
      ],
      "execution_count": 40,
      "outputs": []
    },
    {
      "cell_type": "markdown",
      "metadata": {
        "id": "vOkzr7-sCuXR"
      },
      "source": [
        "## Testing API"
      ]
    },
    {
      "cell_type": "markdown",
      "metadata": {
        "id": "tDsX1vN-Cyby"
      },
      "source": [
        "We will test our api to see how it performs"
      ]
    },
    {
      "cell_type": "code",
      "metadata": {
        "colab": {
          "base_uri": "https://localhost:8080/"
        },
        "id": "sVmhLGKTCxnt",
        "outputId": "6480a140-9b3c-46ff-bd15-db9730d89729"
      },
      "source": [
        "import requests\n",
        "import json\n",
        "\n",
        "resp = requests.post(\"https://phone-evaluator.herokuapp.com/predict\", data=json.dumps(\n",
        "    {\n",
        "    \"ram\": 2.0,\n",
        "    \"storage\": 256.0,\n",
        "    \"processor\": 2.0,\n",
        "    \"camera\": 12.0,\n",
        "    \"brand\": \"apple\",\n",
        "    \"condition\": \"used\"\n",
        "}\n",
        "))\n",
        "print(json.loads(resp.text))"
      ],
      "execution_count": 41,
      "outputs": [
        {
          "output_type": "stream",
          "text": [
            "{'evaluation': 214.14714285714288}\n"
          ],
          "name": "stdout"
        }
      ]
    }
  ]
}