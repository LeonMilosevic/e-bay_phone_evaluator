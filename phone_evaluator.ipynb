{
  "nbformat": 4,
  "nbformat_minor": 0,
  "metadata": {
    "colab": {
      "name": "phone_evaluator.ipynb",
      "provenance": [],
      "authorship_tag": "ABX9TyPiPxRjDIDsWt3G7wjxvd6e",
      "include_colab_link": true
    },
    "kernelspec": {
      "name": "python3",
      "display_name": "Python 3"
    }
  },
  "cells": [
    {
      "cell_type": "markdown",
      "metadata": {
        "id": "view-in-github",
        "colab_type": "text"
      },
      "source": [
        "<a href=\"https://colab.research.google.com/github/LeonMilosevic/e-bay_phone_evaluator/blob/main/phone_evaluator.ipynb\" target=\"_parent\"><img src=\"https://colab.research.google.com/assets/colab-badge.svg\" alt=\"Open In Colab\"/></a>"
      ]
    },
    {
      "cell_type": "markdown",
      "metadata": {
        "id": "Fnph_IlASiml"
      },
      "source": [
        "## E-bay Phone Evaluator\n",
        "\n",
        "### Steps to take:\n",
        "\n",
        "- ##### We will scrape data from ebay with a custom ebay scraper class found here: https://github.com/LeonMilosevic/ebay-phone-scraper\n",
        "- ##### We will create functions to help us clean our data\n",
        "- ##### We will perform EDA on our data\n",
        "- ##### We will create a baseline model\n",
        "- ##### Do Feature Engineering and Hyperparametars Tuning to improve the performance of our model\n",
        "- ##### We will export the model and use it for our Flask API to enable the app for usage, <br /> you can find it here: https://github.com/LeonMilosevic/ebay_phone_price_predictor_api"
      ]
    },
    {
      "cell_type": "markdown",
      "metadata": {
        "id": "ReYBz4SWXHbq"
      },
      "source": [
        "## Data Scraping"
      ]
    },
    {
      "cell_type": "markdown",
      "metadata": {
        "id": "b6oGmqDTXSQY"
      },
      "source": [
        "#### Install the package from github"
      ]
    },
    {
      "cell_type": "code",
      "metadata": {
        "id": "GrFdffLoXKlo"
      },
      "source": [
        "!pip install git+https://github.com/LeonMilosevic/ebay-phone-scraper"
      ],
      "execution_count": null,
      "outputs": []
    },
    {
      "cell_type": "markdown",
      "metadata": {
        "id": "uFmskgnSXamU"
      },
      "source": [
        "#### Installing necessery packages to use ebay-phone-scraper"
      ]
    },
    {
      "cell_type": "code",
      "metadata": {
        "id": "lPgdKAu5Xk3m"
      },
      "source": [
        "!pip install fake-useragent"
      ],
      "execution_count": null,
      "outputs": []
    },
    {
      "cell_type": "code",
      "metadata": {
        "id": "h_8v5J-YXpPx"
      },
      "source": [
        "!pip install pytest ipython_pytest"
      ],
      "execution_count": null,
      "outputs": []
    },
    {
      "cell_type": "markdown",
      "metadata": {
        "id": "epMbiXvmXv9m"
      },
      "source": [
        "#### Testing the package"
      ]
    },
    {
      "cell_type": "code",
      "metadata": {
        "id": "wKLH-g-wXsd6"
      },
      "source": [
        "import ipython_pytest\n",
        "%load_ext ipython_pytest"
      ],
      "execution_count": 4,
      "outputs": []
    },
    {
      "cell_type": "code",
      "metadata": {
        "colab": {
          "base_uri": "https://localhost:8080/"
        },
        "id": "HkS0n_mMX3za",
        "outputId": "98f4c1d9-98d3-45d8-cb0e-61efb8262383"
      },
      "source": [
        "%%pytest\n",
        "from scraper import scraper\n",
        "from fake_useragent import UserAgent\n",
        "import pandas as pd\n",
        "import pytest\n",
        "\n",
        "def test_check_brandIdApple():\n",
        "  result = scraper.check_brandId('Apple')\n",
        "\n",
        "  assert result == 319682\n",
        "\n",
        "def test_check_brandIdLG():\n",
        "  result = scraper.check_brandId('LG')\n",
        "\n",
        "  assert result == 353985\n",
        "\n",
        "def test_check_brandIdHuawei():\n",
        "  result = scraper.check_brandId('Huawei')\n",
        "\n",
        "  assert result == 349965\n",
        "\n",
        "def test_check_brandIdSamsung():\n",
        "  result = scraper.check_brandId('Samsung')\n",
        "\n",
        "  assert result == 352130\n",
        "\n",
        "def test_check_brandIdError():\n",
        "  with pytest.raises(ValueError):\n",
        "      scraper.check_brandId('bad')\n",
        "\n",
        "def test_check_conditionNew():\n",
        "  result = scraper.check_condition(\"new\")\n",
        "  print(result)\n",
        "  assert result == 1000\n",
        "\n",
        "def test_check_conditionUsed():\n",
        "  result = scraper.check_condition('used')\n",
        "\n",
        "  assert result == 3000\n",
        "\n",
        "def test_check_conditionError():\n",
        "    with pytest.raises(ValueError):\n",
        "        scraper.check_condition('something else')\n",
        "\n",
        "def test_calculate_number_of_pages():\n",
        "    result = scraper.calculate_number_of_pages(48)\n",
        "\n",
        "    assert result == 1\n",
        "\n",
        "def test_create_datafrmae():\n",
        "  brand = \"Apple\"\n",
        "  phone_price = ['123', '456', '789']\n",
        "  phone_model = ['galaxy', 'iphone 7', 'iphone 8']\n",
        "  phone_ram = ['3 gb', '4gb', '5gb']\n",
        "  phone_storage = ['64gb', '128gb', '16gb']\n",
        "  phone_processor = ['some processor', 'some processor2', 'some processor3']\n",
        "  phone_camera = ['16', '8', '12']\n",
        "  condition = 0\n",
        "\n",
        "  result = scraper.create_dataframe(\n",
        "    brand=brand, \n",
        "    condition=condition,\n",
        "    phone_price=phone_price, \n",
        "    phone_model=phone_model, \n",
        "    phone_ram=phone_ram, \n",
        "    phone_storage=phone_storage, \n",
        "    phone_processor=phone_processor, \n",
        "    phone_camera=phone_camera\n",
        "    )\n",
        "  assert type(result) == pd.DataFrame"
      ],
      "execution_count": 5,
      "outputs": [
        {
          "output_type": "stream",
          "text": [
            "============================= test session starts ==============================\n",
            "platform linux -- Python 3.6.9, pytest-3.6.4, py-1.10.0, pluggy-0.7.1\n",
            "rootdir: /tmp/tmp5kkvrjyl, inifile:\n",
            "plugins: typeguard-2.7.1\n",
            "collected 10 items\n",
            "\n",
            "_ipytesttmp.py ..........                                                [100%]\n",
            "\n",
            "========================== 10 passed in 0.32 seconds ===========================\n"
          ],
          "name": "stdout"
        }
      ]
    },
    {
      "cell_type": "markdown",
      "metadata": {
        "id": "0i9lqYwaZ1LL"
      },
      "source": [
        "#### Imports to be used"
      ]
    },
    {
      "cell_type": "code",
      "metadata": {
        "id": "KGUdsmsCZ3pH"
      },
      "source": [
        "import pandas as pd\n",
        "import numpy as np"
      ],
      "execution_count": 1,
      "outputs": []
    },
    {
      "cell_type": "markdown",
      "metadata": {
        "id": "IYX9SEXJYLZh"
      },
      "source": [
        "#### Data Cleaning functions"
      ]
    },
    {
      "cell_type": "code",
      "metadata": {
        "id": "KqrZcCQFYRVp"
      },
      "source": [
        "# defining functions to be used\n",
        "def combine_data(list_of_dataframes: list) -> pd.DataFrame:\n",
        "  \"\"\" \n",
        "  Joins passed list of dataframes\n",
        "  \n",
        "  Arg:\n",
        "    list_of_dataframes (list)\n",
        "\n",
        "  returns:\n",
        "    pd.DataFrame object of passed dataframes\n",
        "  \"\"\"\n",
        "  return pd.concat(list_of_dataframes)\n",
        "\n",
        "def sum_cameras(df: pd.DataFrame) -> list:\n",
        "  ''' takes a dataframe, finds cameras with higher str value than 6, sums them and returnes the summed values\n",
        "      \n",
        "      args:\n",
        "            df (pd.DataFrame): dataframe to be operated on\n",
        "\n",
        "      returns:\n",
        "            summed_cameras (list): list of summed values passed from the dataframe\n",
        "  '''\n",
        "  summed_cameras = []  \n",
        "\n",
        "  for item in df[df['camera'].str.len() > 6]['camera']:\n",
        "    result = [x.strip() for x in item.split(',')]\n",
        "    for i in range(len(result)):\n",
        "      if result[i] == '8.0.0':\n",
        "        result[i] = float(8)\n",
        "      else:\n",
        "        result[i] = float(result[i])\n",
        "    summed_cameras.append(sum(result))\n",
        "  \n",
        "  return summed_cameras\n",
        "\n",
        "def rename_phone_model(bad_name_model: str, good_name_model: str, df: pd.DataFrame) -> None:\n",
        "  \"\"\" \n",
        "  Renames a given name of the model, with a provided name of the model\n",
        "  \n",
        "  Arg:\n",
        "    bad_name_model (str) : name to be replaced\n",
        "    good_name_model (str) : name to be replaced with\n",
        "    df (pd.DataFrame) : dataframe to be cleaned\n",
        "\n",
        "  returns:\n",
        "        None\n",
        "  \"\"\"\n",
        "  df[df['model'] == bad_name_model] = good_name_model\n",
        "\n",
        "def remove_unwanted_models(df: pd.DataFrame, model_name: str) -> None:\n",
        "  \"\"\" \n",
        "  Removes given models\n",
        "\n",
        "  Arg:\n",
        "    bad_name_model (str) : name to be replaced\n",
        "    good_name_model (str) : name to be replaced with\n",
        "    df (pd.DataFrame) : dataframe to be cleaned\n",
        "\n",
        "  returns:\n",
        "        None\n",
        "  \"\"\"\n",
        "  models = df[df['model'] == model_name].index\n",
        "\n",
        "  df.drop(models, inplace=True)\n",
        "\n",
        "def clean_columns(df: pd.DataFrame, characters: list, column: str, replace_char: str = \"\") -> pd.DataFrame:\n",
        "  '''\n",
        "  Accepts a pd.DataFrame, characters, column. Removes passed characters, returns clean pd.DataFrame\n",
        "\n",
        "  Arg: df (pd.DataFrame): DataFrame to be cleaned,\n",
        "       characters (list): list of characters to be removed\n",
        "       column (str): name of the column to be cleaned\n",
        "       replace_char (str) : default value is empty, but if specified, can replace the value as well\n",
        "  returns:\n",
        "      df (pd.DataFrame): cleaned DataFrame\n",
        "  '''\n",
        "  for char in characters:\n",
        "    df[column] = df[column].str.replace(char, replace_char)\n",
        "\n",
        "  return df \n",
        "\n",
        "def convert_data_to_numeric(df: pd.DataFrame) -> None:\n",
        "  '''\n",
        "  Accepts a pd.DataFrame, converts its columns to numeric\n",
        "\n",
        "  Arg: df (pd.DataFrame): DataFrame to be converted to numeric\n",
        "  \n",
        "  returns:\n",
        "      df (pd.DataFrame): numeric DataFrame\n",
        "  '''\n",
        "\n",
        "  df['storage'] = pd.to_numeric(df['storage'])\n",
        "  df['price'] = pd.to_numeric(df['price'])\n",
        "  df['camera'] = pd.to_numeric(df['camera'])\n",
        "  df['ram'] = pd.to_numeric(df['ram'])\n",
        "\n",
        "def remove_rows_with_false_values(df: pd.DataFrame) -> None:\n",
        "  '''\n",
        "  Accepts a pd.DataFrame, removes rows that have same value in each column\n",
        "\n",
        "  Arg: df (pd.DataFrame): DataFrame to be cleaned\n",
        "  \n",
        "  returns:\n",
        "        None\n",
        "  '''\n",
        "\n",
        "  df.drop(df[df['processor'] == df['camera']].index, inplace=True)\n",
        "\n",
        "def populate_columns_by_model_mean(df: pd.DataFrame) -> None:\n",
        "  '''\n",
        "  Accepts a pd.DataFrame, replaces ram memory in each row by model mean value\n",
        "\n",
        "  Arg: df (pd.DataFrame): DataFrame to be cleaned\n",
        "  \n",
        "  returns:\n",
        "        None\n",
        "  '''\n",
        "  models_ram_values = df.groupby('model').agg({'ram': 'mean'})['ram']\n",
        "  models_camera_values = df.groupby('model').agg({'camera': 'mean'})['camera']\n",
        "\n",
        "  for model, value in models_ram_values.items():\n",
        "    temp_index = df[df['model'] == model].index\n",
        "\n",
        "    for i in temp_index:\n",
        "      df.at[i, 'ram'] = value\n",
        "  \n",
        "  for model, value in models_camera_values.items():\n",
        "    temp_index = df[df['model'] == model].index\n",
        "\n",
        "    for i in temp_index:\n",
        "      df.at[i, 'camera'] = value\n",
        "\n",
        "def replace_mb_to_gb(df: pd.DataFrame, mb_limit: int, column_name: str) -> None:\n",
        "  '''\n",
        "  Accepts a pd.DataFrame, limit to be passed of the mb, name of the column,\n",
        "  moves decimal by 3 places to convert it from GB to MB\n",
        "\n",
        "  Arg: \n",
        "    df (pd.DataFrame): DataFrame to be cleaned\n",
        "    mb_limit (int) : limit value that we want for specific column to be searched for\n",
        "    column_name (str) : name of the column to be transformed from MB to GB\n",
        "  \n",
        "  returns:\n",
        "        None\n",
        "  '''\n",
        "  mb = df[df[column_name] > mb_limit][column_name].tolist()\n",
        "  mb_index = df[df[column_name] > mb_limit].index\n",
        "  \n",
        "  converted = [(ram / 1000) for ram in mb]\n",
        "\n",
        "  for i in range(len(mb_index)):\n",
        "    df.at[mb_index[i], column_name] = converted[i]\n",
        "\n",
        "def replace_specific_value(df: pd.DataFrame, original_value: str, new_value: str, column_name) -> None:\n",
        "  '''\n",
        "  Accepts a pd.DataFrame, replaces old value with a new value in the specified column\n",
        "\n",
        "  Arg: \n",
        "    df (pd.DataFrame): DataFrame to be changed\n",
        "    original_value (int) : value we want to replace\n",
        "    new_value (str, int) : value that will change original_value\n",
        "    column_name (str) : name of the column that needs to be changed\n",
        "  \n",
        "  returns:\n",
        "        None\n",
        "  '''\n",
        "  original_value_idx = df[df[column_name] == original_value].index\n",
        "\n",
        "  for i in range(len(original_value_idx)):\n",
        "    df.at[original_value_idx[i], column_name] = new_value\n",
        "\n",
        "def multi_camera_phones_to_single_value(df: pd.DataFrame) -> None:\n",
        "  '''\n",
        "  accepts a dataframe, sums cameras from camera column and replaces their value with summed value\n",
        "\n",
        "  Arg: \n",
        "    df (pd.DataFrame): DataFrame to be changed\n",
        "  \n",
        "  returns:\n",
        "        None\n",
        "  '''\n",
        "  cameras_to_be_replaced = df[df['camera'].str.len() > 6].index\n",
        "  summed_cameras = sum_cameras(df)\n",
        "\n",
        "  for i in range(len(cameras_to_be_replaced)):\n",
        "    df.at[cameras_to_be_replaced[i], 'camera'] = summed_cameras[i]\n",
        "\n",
        "# onehot encode function\n",
        "def onehot_encode(df, column, prefix):\n",
        "  '''\n",
        "  Hot encodes a given column, and adds it to a Dataframe\n",
        "\n",
        "  Arg: \n",
        "    df (pd.DataFrame): DataFrame to be hot encoded\n",
        "    prefix (str) : prefix to be given to hot encoded columns\n",
        "    column (str) : name of the column that needs to be changed\n",
        "  \n",
        "  returns:\n",
        "        None\n",
        "  '''\n",
        "  df = df.copy()\n",
        "  dummies = pd.get_dummies(df[column], prefix=prefix)\n",
        "  df = pd.concat([df, dummies], axis=1)\n",
        "  df = df.drop(column, axis=1)\n",
        "  return df\n",
        "\n",
        "def update_specific_model_ram(model_name: str, ram: int, df: pd.DataFrame) -> None:\n",
        "  '''\n",
        "  Accepts a pd.DataFrame, replaces ram memory in for a given model name\n",
        "\n",
        "  Arg: \n",
        "    df (pd.DataFrame): DataFrame to be cleaned\n",
        "    model_name (str) : name of the model\n",
        "    ram (int) : value to be updated\n",
        "  \n",
        "  returns:\n",
        "        None\n",
        "  '''\n",
        "  model_index = df[df['model'] == model_name].index\n",
        "\n",
        "  for i in model_index:\n",
        "    df.at[i, 'ram'] = ram"
      ],
      "execution_count": 40,
      "outputs": []
    },
    {
      "cell_type": "markdown",
      "metadata": {
        "id": "YUncgiBCao6x"
      },
      "source": [
        "#### Data Wrangling"
      ]
    },
    {
      "cell_type": "code",
      "metadata": {
        "id": "vL3rv7YVasHq"
      },
      "source": [
        "apple_new_data = pd.read_csv('Apple_new_data.csv')\n",
        "apple_used_data = pd.read_csv('Apple_used_data.csv')\n",
        "huawei_new_data = pd.read_csv('Huawei_new_data.csv')\n",
        "huawei_used_data = pd.read_csv('Huawei_used_data.csv')\n",
        "samsung_new_data = pd.read_csv('Samsung_new_data.csv')\n",
        "samsung_used_data = pd.read_csv('Samsung_used_data.csv')"
      ],
      "execution_count": 3,
      "outputs": []
    },
    {
      "cell_type": "code",
      "metadata": {
        "id": "FbqcWmy6axma"
      },
      "source": [
        "# adding condition to data\n",
        "apple_new_data['condition'] = 'new'\n",
        "apple_used_data['condition'] = 'used'\n",
        "\n",
        "huawei_new_data['condition'] = 'new'\n",
        "huawei_used_data['condition'] = 'used'\n",
        "\n",
        "samsung_new_data['condition'] = 'new'\n",
        "samsung_used_data['condition'] = 'used'"
      ],
      "execution_count": 4,
      "outputs": []
    },
    {
      "cell_type": "code",
      "metadata": {
        "id": "h8DkrPuOa6-L"
      },
      "source": [
        "# join dataframes\n",
        "list_of_df = [apple_new_data,\n",
        "                 apple_used_data,\n",
        "                 huawei_new_data,\n",
        "                 huawei_used_data,\n",
        "                 samsung_new_data,\n",
        "                 samsung_used_data]\n",
        "\n",
        "phone_data = combine_data(list_of_df)"
      ],
      "execution_count": 5,
      "outputs": []
    },
    {
      "cell_type": "code",
      "metadata": {
        "colab": {
          "base_uri": "https://localhost:8080/"
        },
        "id": "ymxNOPGJdbSX",
        "outputId": "e8eb901a-3057-45fa-9a30-fdb9becae799"
      },
      "source": [
        "phone_data.shape"
      ],
      "execution_count": 6,
      "outputs": [
        {
          "output_type": "execute_result",
          "data": {
            "text/plain": [
              "(14853, 8)"
            ]
          },
          "metadata": {
            "tags": []
          },
          "execution_count": 6
        }
      ]
    },
    {
      "cell_type": "code",
      "metadata": {
        "colab": {
          "base_uri": "https://localhost:8080/"
        },
        "id": "Uhlz22jtdMT6",
        "outputId": "70f3bfa3-af00-47c7-e249-647073881849"
      },
      "source": [
        "phone_data.isnull().sum()"
      ],
      "execution_count": 7,
      "outputs": [
        {
          "output_type": "execute_result",
          "data": {
            "text/plain": [
              "price        6600\n",
              "model        8517\n",
              "ram          8024\n",
              "storage      8492\n",
              "processor    8612\n",
              "camera       8901\n",
              "brand           0\n",
              "condition       0\n",
              "dtype: int64"
            ]
          },
          "metadata": {
            "tags": []
          },
          "execution_count": 7
        }
      ]
    },
    {
      "cell_type": "markdown",
      "metadata": {
        "id": "AD1t32HTdw4f"
      },
      "source": [
        "- Replacable Data: RAM, Processor and Camera resolution.\n",
        "\n",
        "\n",
        "\n",
        "- Irreplaceable Data: price, model and storage, because we don't know precise sold price of the phone or correct model, as well same models come with different storage regardless of other specifics.\n"
      ]
    },
    {
      "cell_type": "code",
      "metadata": {
        "id": "rjsh8rYTdjNS"
      },
      "source": [
        "# dropping rows where price, model and storage is NaN\n",
        "phone_data = phone_data.dropna(subset=['price', 'model', 'storage'])"
      ],
      "execution_count": 8,
      "outputs": []
    },
    {
      "cell_type": "markdown",
      "metadata": {
        "id": "e_aF5Of_g-pK"
      },
      "source": [
        "The data contains extra characters in columns, we will remove all the string characters and leave only numeric characters"
      ]
    },
    {
      "cell_type": "code",
      "metadata": {
        "id": "e7FsuTpvmfwt"
      },
      "source": [
        "phone_data = clean_columns(phone_data, ['$', ','], 'price')\n",
        "phone_data = clean_columns(phone_data, ['GB', 'gb', 'mb', 'MB'], 'storage')\n",
        "phone_data = clean_columns(phone_data, ['MP', 'mb'], 'camera')\n",
        "phone_data = clean_columns(phone_data, ['MB', 'GB', 'gb'], 'ram')\n",
        "phone_data = clean_columns(phone_data, ['+'], 'camera', replace_char=\",\")"
      ],
      "execution_count": 9,
      "outputs": []
    },
    {
      "cell_type": "markdown",
      "metadata": {
        "id": "9ZiNbTxKiCqo"
      },
      "source": [
        "Some rows as well contain false values, <br />\n",
        "example: all columns of a row are represented by a value of 1, we will remove those"
      ]
    },
    {
      "cell_type": "code",
      "metadata": {
        "id": "gnUhWiIkh-Sl"
      },
      "source": [
        "remove_rows_with_false_values(phone_data)"
      ],
      "execution_count": 10,
      "outputs": []
    },
    {
      "cell_type": "code",
      "metadata": {
        "id": "AfD7L09enez-"
      },
      "source": [
        "phone_data.reset_index(drop=True, inplace=True)"
      ],
      "execution_count": 11,
      "outputs": []
    },
    {
      "cell_type": "markdown",
      "metadata": {
        "id": "qBfX-wiDpp1S"
      },
      "source": [
        "Some models have more than one camera, or camera is named as Vga so we will need to sum the values of them and replace Vga with a numeric value"
      ]
    },
    {
      "cell_type": "code",
      "metadata": {
        "id": "kw5ybeIGpyXY"
      },
      "source": [
        "multi_camera_phones_to_single_value(phone_data)\n",
        "replace_specific_value(phone_data, 'Vga', 43, 'camera')"
      ],
      "execution_count": 12,
      "outputs": []
    },
    {
      "cell_type": "markdown",
      "metadata": {
        "id": "STRc-sMMiefO"
      },
      "source": [
        "Convert the data to numeric values"
      ]
    },
    {
      "cell_type": "code",
      "metadata": {
        "id": "n2wh6zhxibnn"
      },
      "source": [
        "convert_data_to_numeric(phone_data)"
      ],
      "execution_count": 13,
      "outputs": []
    },
    {
      "cell_type": "markdown",
      "metadata": {
        "id": "A5TwZnpuqM5a"
      },
      "source": [
        "We will use a function to populate ram missing values"
      ]
    },
    {
      "cell_type": "code",
      "metadata": {
        "id": "0wpqROMZqLlC"
      },
      "source": [
        "populate_columns_by_model_mean(phone_data)\n",
        "update_specific_model_ram('Apple iPhone 12 Pro Max', 6, phone_data)\n",
        "update_specific_model_ram('Apple iPhone 12 mini', 4, phone_data)"
      ],
      "execution_count": 41,
      "outputs": []
    },
    {
      "cell_type": "code",
      "metadata": {
        "colab": {
          "base_uri": "https://localhost:8080/"
        },
        "id": "setLl9eds8e-",
        "outputId": "37460d06-07c7-485f-aa99-02604ecb0d96"
      },
      "source": [
        "phone_data.isnull().sum()"
      ],
      "execution_count": 42,
      "outputs": [
        {
          "output_type": "execute_result",
          "data": {
            "text/plain": [
              "price         0\n",
              "model         0\n",
              "ram          54\n",
              "storage       0\n",
              "processor    97\n",
              "camera       35\n",
              "brand         0\n",
              "condition     0\n",
              "dtype: int64"
            ]
          },
          "metadata": {
            "tags": []
          },
          "execution_count": 42
        }
      ]
    },
    {
      "cell_type": "code",
      "metadata": {
        "colab": {
          "base_uri": "https://localhost:8080/"
        },
        "id": "R-DjDqbcxL3w",
        "outputId": "622a35a1-ea88-4165-9ef4-992cb1b13c06"
      },
      "source": [
        "phone_data.groupby('model')['processor'].value_counts()"
      ],
      "execution_count": 72,
      "outputs": [
        {
          "output_type": "execute_result",
          "data": {
            "text/plain": [
              "model                          processor  \n",
              "Apple iPhone (1st Generation)  Single Core      4\n",
              "Apple iPhone 11                Hexa Core      202\n",
              "Apple iPhone 11 Pro            Hexa Core       80\n",
              "Apple iPhone 11 Pro Max        Hexa Core      115\n",
              "Apple iPhone 12                Hexa Core      144\n",
              "                                             ... \n",
              "Samsung Galaxy Z Fold2 5G      Octa Core       15\n",
              "                               Dual Core        2\n",
              "Xiaomi Mi 10T Lite             Octa Core        1\n",
              "Y6                             Quad Core       10\n",
              "iPhone 6s.                     Dual Core        4\n",
              "Name: processor, Length: 240, dtype: int64"
            ]
          },
          "metadata": {
            "tags": []
          },
          "execution_count": 72
        }
      ]
    },
    {
      "cell_type": "code",
      "metadata": {
        "colab": {
          "base_uri": "https://localhost:8080/",
          "height": 424
        },
        "id": "BShucTRwqke2",
        "outputId": "60fd846d-3eb3-4dbd-961e-81747e4d4f27"
      },
      "source": [
        "phone_data[phone_data.isnull().any(axis=1)]"
      ],
      "execution_count": 43,
      "outputs": [
        {
          "output_type": "execute_result",
          "data": {
            "text/html": [
              "<div>\n",
              "<style scoped>\n",
              "    .dataframe tbody tr th:only-of-type {\n",
              "        vertical-align: middle;\n",
              "    }\n",
              "\n",
              "    .dataframe tbody tr th {\n",
              "        vertical-align: top;\n",
              "    }\n",
              "\n",
              "    .dataframe thead th {\n",
              "        text-align: right;\n",
              "    }\n",
              "</style>\n",
              "<table border=\"1\" class=\"dataframe\">\n",
              "  <thead>\n",
              "    <tr style=\"text-align: right;\">\n",
              "      <th></th>\n",
              "      <th>price</th>\n",
              "      <th>model</th>\n",
              "      <th>ram</th>\n",
              "      <th>storage</th>\n",
              "      <th>processor</th>\n",
              "      <th>camera</th>\n",
              "      <th>brand</th>\n",
              "      <th>condition</th>\n",
              "    </tr>\n",
              "  </thead>\n",
              "  <tbody>\n",
              "    <tr>\n",
              "      <th>285</th>\n",
              "      <td>1641.34</td>\n",
              "      <td>Apple iPhone 12 Pro</td>\n",
              "      <td>6.0</td>\n",
              "      <td>128</td>\n",
              "      <td>NaN</td>\n",
              "      <td>12.0</td>\n",
              "      <td>Apple</td>\n",
              "      <td>new</td>\n",
              "    </tr>\n",
              "    <tr>\n",
              "      <th>1817</th>\n",
              "      <td>179.43</td>\n",
              "      <td>Apple iPhone 8</td>\n",
              "      <td>2.0</td>\n",
              "      <td>64</td>\n",
              "      <td>NaN</td>\n",
              "      <td>12.0</td>\n",
              "      <td>Apple</td>\n",
              "      <td>used</td>\n",
              "    </tr>\n",
              "    <tr>\n",
              "      <th>2159</th>\n",
              "      <td>61.17</td>\n",
              "      <td>5</td>\n",
              "      <td>NaN</td>\n",
              "      <td>16</td>\n",
              "      <td>NaN</td>\n",
              "      <td>NaN</td>\n",
              "      <td>Apple</td>\n",
              "      <td>used</td>\n",
              "    </tr>\n",
              "    <tr>\n",
              "      <th>2394</th>\n",
              "      <td>61.17</td>\n",
              "      <td>5</td>\n",
              "      <td>NaN</td>\n",
              "      <td>16</td>\n",
              "      <td>NaN</td>\n",
              "      <td>NaN</td>\n",
              "      <td>Apple</td>\n",
              "      <td>used</td>\n",
              "    </tr>\n",
              "    <tr>\n",
              "      <th>2801</th>\n",
              "      <td>679.64</td>\n",
              "      <td>Apple iPhone 8</td>\n",
              "      <td>2.0</td>\n",
              "      <td>256</td>\n",
              "      <td>NaN</td>\n",
              "      <td>12.0</td>\n",
              "      <td>Apple</td>\n",
              "      <td>used</td>\n",
              "    </tr>\n",
              "    <tr>\n",
              "      <th>...</th>\n",
              "      <td>...</td>\n",
              "      <td>...</td>\n",
              "      <td>...</td>\n",
              "      <td>...</td>\n",
              "      <td>...</td>\n",
              "      <td>...</td>\n",
              "      <td>...</td>\n",
              "      <td>...</td>\n",
              "    </tr>\n",
              "    <tr>\n",
              "      <th>5648</th>\n",
              "      <td>122.32</td>\n",
              "      <td>Samsung Galaxy Ace 2</td>\n",
              "      <td>768.0</td>\n",
              "      <td>4</td>\n",
              "      <td>NaN</td>\n",
              "      <td>5.0</td>\n",
              "      <td>Samsung</td>\n",
              "      <td>used</td>\n",
              "    </tr>\n",
              "    <tr>\n",
              "      <th>5651</th>\n",
              "      <td>15.63</td>\n",
              "      <td>Samsung Galaxy Ace</td>\n",
              "      <td>NaN</td>\n",
              "      <td>150</td>\n",
              "      <td>NaN</td>\n",
              "      <td>5.0</td>\n",
              "      <td>Samsung</td>\n",
              "      <td>used</td>\n",
              "    </tr>\n",
              "    <tr>\n",
              "      <th>5661</th>\n",
              "      <td>13.59</td>\n",
              "      <td>Samsung E1080</td>\n",
              "      <td>NaN</td>\n",
              "      <td>1</td>\n",
              "      <td>NaN</td>\n",
              "      <td>NaN</td>\n",
              "      <td>Samsung</td>\n",
              "      <td>used</td>\n",
              "    </tr>\n",
              "    <tr>\n",
              "      <th>5662</th>\n",
              "      <td>24.45</td>\n",
              "      <td>Samsung Galaxy Fame</td>\n",
              "      <td>512.0</td>\n",
              "      <td>4</td>\n",
              "      <td>NaN</td>\n",
              "      <td>5.0</td>\n",
              "      <td>Samsung</td>\n",
              "      <td>used</td>\n",
              "    </tr>\n",
              "    <tr>\n",
              "      <th>5672</th>\n",
              "      <td>176.70</td>\n",
              "      <td>Samsung Galaxy Ace 3</td>\n",
              "      <td>1.0</td>\n",
              "      <td>4</td>\n",
              "      <td>NaN</td>\n",
              "      <td>5.0</td>\n",
              "      <td>Samsung</td>\n",
              "      <td>used</td>\n",
              "    </tr>\n",
              "  </tbody>\n",
              "</table>\n",
              "<p>125 rows × 8 columns</p>\n",
              "</div>"
            ],
            "text/plain": [
              "        price                 model    ram  ...  camera    brand  condition\n",
              "285   1641.34   Apple iPhone 12 Pro    6.0  ...    12.0    Apple        new\n",
              "1817   179.43        Apple iPhone 8    2.0  ...    12.0    Apple       used\n",
              "2159    61.17                     5    NaN  ...     NaN    Apple       used\n",
              "2394    61.17                     5    NaN  ...     NaN    Apple       used\n",
              "2801   679.64        Apple iPhone 8    2.0  ...    12.0    Apple       used\n",
              "...       ...                   ...    ...  ...     ...      ...        ...\n",
              "5648   122.32  Samsung Galaxy Ace 2  768.0  ...     5.0  Samsung       used\n",
              "5651    15.63    Samsung Galaxy Ace    NaN  ...     5.0  Samsung       used\n",
              "5661    13.59         Samsung E1080    NaN  ...     NaN  Samsung       used\n",
              "5662    24.45   Samsung Galaxy Fame  512.0  ...     5.0  Samsung       used\n",
              "5672   176.70  Samsung Galaxy Ace 3    1.0  ...     5.0  Samsung       used\n",
              "\n",
              "[125 rows x 8 columns]"
            ]
          },
          "metadata": {
            "tags": []
          },
          "execution_count": 43
        }
      ]
    }
  ]
}